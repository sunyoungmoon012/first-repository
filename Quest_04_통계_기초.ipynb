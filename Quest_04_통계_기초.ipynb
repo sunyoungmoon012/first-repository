{
  "nbformat": 4,
  "nbformat_minor": 0,
  "metadata": {
    "colab": {
      "provenance": [],
      "gpuType": "T4",
      "authorship_tag": "ABX9TyNOOGOizDKZpQ8VLOZkBxnZ",
      "include_colab_link": true
    },
    "kernelspec": {
      "name": "python3",
      "display_name": "Python 3"
    },
    "language_info": {
      "name": "python"
    },
    "accelerator": "GPU"
  },
  "cells": [
    {
      "cell_type": "markdown",
      "metadata": {
        "id": "view-in-github",
        "colab_type": "text"
      },
      "source": [
        "<a href=\"https://colab.research.google.com/github/sunyoungmoon012/first-repository/blob/master/Quest_04_%ED%86%B5%EA%B3%84_%EA%B8%B0%EC%B4%88.ipynb\" target=\"_parent\"><img src=\"https://colab.research.google.com/assets/colab-badge.svg\" alt=\"Open In Colab\"/></a>"
      ]
    },
    {
      "cell_type": "code",
      "execution_count": 1,
      "metadata": {
        "colab": {
          "base_uri": "https://localhost:8080/"
        },
        "id": "ey0qZ0TSSUeL",
        "outputId": "e4fe9ef7-624c-4ab1-cd4a-d15d8d517d8e"
      },
      "outputs": [
        {
          "output_type": "stream",
          "name": "stdout",
          "text": [
            "t-값: -2.5000, p-value: 0.0098. 유의수준 0.05에서 귀무가설을 기각합니다. 빵의 평균 무게는 목표와 다릅니다.\n"
          ]
        }
      ],
      "source": [
        "from scipy import stats\n",
        "\n",
        "# 주어진 값들\n",
        "sample_mean = 495        # 표본 평균\n",
        "population_mean = 500    # 모집단 평균 (목표 무게)\n",
        "sample_std = 10          # 표본 표준편차\n",
        "n = 25                   # 표본 크기\n",
        "alpha = 0.05             # 유의수준\n",
        "\n",
        "# t-값 계산\n",
        "t_statistic = (sample_mean - population_mean) / (sample_std / (n ** 0.5))\n",
        "\n",
        "# 자유도\n",
        "df = n - 1\n",
        "\n",
        "# p-값 계산 (단측 검정, 왼쪽 꼬리)\n",
        "p_value = stats.t.cdf(t_statistic, df=df)\n",
        "\n",
        "# 결과 출력\n",
        "print(f\"t-값: {t_statistic:.4f}, p-value: {p_value:.4f}. 유의수준 {alpha}에서\", end=\" \")\n",
        "\n",
        "if p_value < alpha:\n",
        "    print(\"귀무가설을 기각합니다. 빵의 평균 무게는 목표와 다릅니다.\")\n",
        "else:\n",
        "    print(\"귀무가설을 채택합니다. 빵의 평균 무게는 목표와 통계적으로 차이가 없습니다.\")"
      ]
    }
  ]
}