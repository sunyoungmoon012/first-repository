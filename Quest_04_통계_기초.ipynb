{
  "nbformat": 4,
  "nbformat_minor": 0,
  "metadata": {
    "colab": {
      "provenance": [],
      "gpuType": "T4",
      "authorship_tag": "ABX9TyO0GYd8azgwZxn9q31ExoU3",
      "include_colab_link": true
    },
    "kernelspec": {
      "name": "python3",
      "display_name": "Python 3"
    },
    "language_info": {
      "name": "python"
    },
    "accelerator": "GPU"
  },
  "cells": [
    {
      "cell_type": "markdown",
      "metadata": {
        "id": "view-in-github",
        "colab_type": "text"
      },
      "source": [
        "<a href=\"https://colab.research.google.com/github/sunyoungmoon012/first-repository/blob/master/Quest_04_%ED%86%B5%EA%B3%84_%EA%B8%B0%EC%B4%88.ipynb\" target=\"_parent\"><img src=\"https://colab.research.google.com/assets/colab-badge.svg\" alt=\"Open In Colab\"/></a>"
      ]
    },
    {
      "cell_type": "code",
      "execution_count": 9,
      "metadata": {
        "colab": {
          "base_uri": "https://localhost:8080/"
        },
        "id": "ey0qZ0TSSUeL",
        "outputId": "c51e9c1e-4c1f-4e1f-cdc5-56e5c0699eb6"
      },
      "outputs": [
        {
          "output_type": "stream",
          "name": "stdout",
          "text": [
            "t-값: -2.5000, p-value: 0.0098. 유의수준 0.05에서 귀무가설을 기각합니다. 빵의 평균 무게는 목표와 다릅니다.\n"
          ]
        }
      ],
      "source": [
        "from scipy import stats\n",
        "\n",
        "# 주어진 값들\n",
        "sample_mean = 495        # 표본 평균\n",
        "population_mean = 500    # 모집단 평균 (목표 무게)\n",
        "sample_std = 10          # 표본 표준편차\n",
        "n = 25                   # 표본 크기\n",
        "alpha = 0.05             # 유의수준\n",
        "\n",
        "# t-값 계산\n",
        "t_statistic = (sample_mean - population_mean) / (sample_std / (n ** 0.5))\n",
        "\n",
        "# 자유도\n",
        "df = n - 1\n",
        "\n",
        "# p-값 계산 (단측 검정, 왼쪽 꼬리)\n",
        "p_value = stats.t.cdf(t_statistic, df=df)\n",
        "\n",
        "# 결과 출력\n",
        "print(f\"t-값: {t_statistic:.4f}, p-value: {p_value:.4f}. 유의수준 {alpha}에서\", end=\" \")\n",
        "\n",
        "if p_value < alpha:\n",
        "    print(\"귀무가설을 기각합니다. 빵의 평균 무게는 목표와 다릅니다.\")\n",
        "else:\n",
        "    print(\"귀무가설을 채택합니다. 빵의 평균 무게는 목표와 통계적으로 차이가 없습니다.\")"
      ]
    },
    {
      "cell_type": "code",
      "source": [
        "import numpy as np\n",
        "import matplotlib.pyplot as plt\n",
        "from scipy.stats import t\n",
        "\n",
        "# 주어진 값\n",
        "sample_mean = 495\n",
        "population_mean = 500\n",
        "sample_std = 10\n",
        "n = 25\n",
        "alpha = 0.05\n",
        "\n",
        "# 계산\n",
        "t_stat = (sample_mean - population_mean) / (sample_std / (n ** 0.5))\n",
        "df = n - 1\n",
        "t_crit = t.ppf(1 - alpha / 2, df)  # 양측 검정일 경우 양쪽 임계값\n",
        "\n",
        "# x축 범위 설정\n",
        "x = np.linspace(-4, 4, 400)\n",
        "y = t.pdf(x, df)\n",
        "\n",
        "# 그래프 그리기\n",
        "plt.plot(x, y, color='blue')\n",
        "plt.title('t-distribution')\n",
        "\n",
        "# 임계값 (기각역) 영역 색칠\n",
        "plt.fill_between(x, y, where=(x <= -t_crit), color='green', alpha=0.3)\n",
        "plt.fill_between(x, y, where=(x >= t_crit), color='green', alpha=0.3)\n",
        "\n",
        "# 임계값 선 표시 (초록색 점선)\n",
        "plt.axvline(-t_crit, color='green', linestyle='dashed')\n",
        "plt.axvline(t_crit, color='green', linestyle='dashed')\n",
        "\n",
        "# t통계량 선 표시 (빨간색 점선)\n",
        "plt.axvline(t_stat, color='red', linestyle='dashed')\n",
        "\n",
        "# 출력\n",
        "plt.show()"
      ],
      "metadata": {
        "colab": {
          "base_uri": "https://localhost:8080/",
          "height": 452
        },
        "id": "CO5fyZyvHjgm",
        "outputId": "379cb392-d90e-4556-f125-2b58491f0cfa"
      },
      "execution_count": 10,
      "outputs": [
        {
          "output_type": "display_data",
          "data": {
            "text/plain": [
              "<Figure size 640x480 with 1 Axes>"
            ],
            "image/png": "[encoded data removed]"
          },
          "metadata": {}
        }
      ]
    },
    {
      "cell_type": "code",
      "source": [
        "from scipy import stats\n",
        "\n",
        "# 주어진 표본 점수\n",
        "sample_scores = [79, 77, 80, 76, 78, 81, 75, 79, 77, 80, 78, 76, 82, 77, 79, 78]\n",
        "\n",
        "# 단일표본 t-검정\n",
        "t_stat, p_value_two_tailed = stats.ttest_1samp(sample_scores, popmean=75)\n",
        "\n",
        "# → 문제는 \"향상되었는지?\"에 대한 오른쪽 단측 검정\n",
        "# 따라서 p-value를 1/2로 줄이고 t-값이 양수일 경우만 판단\n",
        "alpha = 0.05\n",
        "if t_stat > 0:\n",
        "    p_value = p_value_two_tailed / 2\n",
        "else:\n",
        "    p_value = 1  # 오른쪽 검정인데 t_stat이 음수면 귀무가설 채택\n",
        "\n",
        "# 결과 출력\n",
        "print(f\"t-값: {t_stat:.4f}, p-value: {p_value:.4f}. 유의수준 {alpha}에서\", end=\" \")\n",
        "\n",
        "if p_value < alpha:\n",
        "    print(\"귀무가설을 기각합니다. 교육 프로그램은 효과가 있습니다.\")\n",
        "else:\n",
        "    print(\"귀무가설을 채택합니다. 교육 프로그램의 효과는 통계적으로 확인되지 않았습니다.\")"
      ],
      "metadata": {
        "colab": {
          "base_uri": "https://localhost:8080/"
        },
        "id": "8t3T5GSWIks4",
        "outputId": "73e4cfd4-4274-4a14-f322-4fe9e6b1ba22"
      },
      "execution_count": 11,
      "outputs": [
        {
          "output_type": "stream",
          "name": "stdout",
          "text": [
            "t-값: 6.7890, p-value: 0.0000. 유의수준 0.05에서 귀무가설을 기각합니다. 교육 프로그램은 효과가 있습니다.\n"
          ]
        }
      ]
    },
    {
      "cell_type": "code",
      "source": [
        "from scipy import stats\n",
        "\n",
        "# 각 그룹 데이터\n",
        "group_A = [5.1, 4.7, 6.2, 4.9, 5.3, 6.1, 5.0, 5.8, 4.8, 5.2]\n",
        "group_B = [4.3, 4.1, 3.8, 4.6, 4.0, 4.5, 3.7, 4.2, 3.9, 4.4, 3.5, 4.3]\n",
        "\n",
        "# 등분산 검정\n",
        "stat_levene, p_levene = stats.levene(group_A, group_B)\n",
        "\n",
        "# 등분산 여부 판단\n",
        "equal_var = p_levene > 0.05\n",
        "\n",
        "# 독립표본 t-검정\n",
        "t_stat, p_value = stats.ttest_ind(group_A, group_B, equal_var=equal_var)\n",
        "\n",
        "# 유의수준\n",
        "alpha = 0.05\n",
        "\n",
        "# 결과 출력\n",
        "print(f\"[등분산 검정] p-value: {p_levene:.4f} → equal_var = {equal_var}\")\n",
        "print(f\"t-값: {t_stat:.4f}, p-value: {p_value:.4f}. 유의수준 {alpha}에서\", end=\" \")\n",
        "\n",
        "if p_value < alpha:\n",
        "    print(\"귀무가설을 기각합니다. 다이어트 프로그램은 효과 차이가 있습니다.\")\n",
        "else:\n",
        "    print(\"귀무가설을 채택합니다. 두 프로그램 간 효과 차이는 통계적으로 유의하지 않습니다.\")"
      ],
      "metadata": {
        "colab": {
          "base_uri": "https://localhost:8080/"
        },
        "id": "fHLxpAqUJhlJ",
        "outputId": "1ec3eb57-a29b-44e6-a05c-6352035a6285"
      },
      "execution_count": 12,
      "outputs": [
        {
          "output_type": "stream",
          "name": "stdout",
          "text": [
            "[등분산 검정] p-value: 0.2703 → equal_var = True\n",
            "t-값: 6.3898, p-value: 0.0000. 유의수준 0.05에서 귀무가설을 기각합니다. 다이어트 프로그램은 효과 차이가 있습니다.\n"
          ]
        }
      ]
    }
  ]
}