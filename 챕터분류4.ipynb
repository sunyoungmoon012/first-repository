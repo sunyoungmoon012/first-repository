{
  "nbformat": 4,
  "nbformat_minor": 0,
  "metadata": {
    "colab": {
      "provenance": [],
      "authorship_tag": "ABX9TyPW1+OFdRF7iwa6Obz7eM1C",
      "include_colab_link": true
    },
    "kernelspec": {
      "name": "python3",
      "display_name": "Python 3"
    },
    "language_info": {
      "name": "python"
    }
  },
  "cells": [
    {
      "cell_type": "markdown",
      "metadata": {
        "id": "view-in-github",
        "colab_type": "text"
      },
      "source": [
        "<a href=\"https://colab.research.google.com/github/sunyoungmoon012/first-repository/blob/master/%EC%B1%95%ED%84%B0%EB%B6%84%EB%A5%984.ipynb\" target=\"_parent\"><img src=\"https://colab.research.google.com/assets/colab-badge.svg\" alt=\"Open In Colab\"/></a>"
      ]
    },
    {
      "cell_type": "code",
      "execution_count": null,
      "metadata": {
        "id": "3Qkm-1edMq8J"
      },
      "outputs": [],
      "source": [
        "# 필수 라이브러리 불러오기\n",
        "import numpy as np\n",
        "import pandas as pd\n",
        "import matplotlib.pyplot as plt\n",
        "import matplotlib\n",
        "import warnings\n",
        "\n",
        "# 경고 무시\n",
        "warnings.filterwarnings('ignore')\n",
        "\n",
        "# 1. 데이터 불러오기\n",
        "file_path = './train_santander.csv'  # 파일 경로\n",
        "cust_df = pd.read_csv(file_path, encoding='latin-1')"
      ]
    },
    {
      "cell_type": "code",
      "source": [
        "# 2. 데이터 기본 정보 확인\n",
        "print(f'Dataset Shape: {cust_df.shape}')   # (76020, 371)\n",
        "print(cust_df.head(3))                     # 상위 3개 데이터 확인\n",
        "cust_df.info()                             # 데이터 타입 및 Null 확인"
      ],
      "metadata": {
        "id": "G6FwhywQMx_t"
      },
      "execution_count": null,
      "outputs": []
    },
    {
      "cell_type": "code",
      "source": [
        "# 3. Target 값 분포 확인\n",
        "print(\"\\n[Target 값 분포]\")\n",
        "print(cust_df['TARGET'].value_counts())\n",
        "\n",
        "unsatisfied_cnt = cust_df[cust_df['TARGET'] == 1]['TARGET'].count()\n",
        "total_cnt = cust_df['TARGET'].count()\n",
        "print('불만족 고객 비율: {:.2f}%'.format((unsatisfied_cnt / total_cnt) * 100))"
      ],
      "metadata": {
        "id": "Yr7yHU4_Mx8w"
      },
      "execution_count": null,
      "outputs": []
    },
    {
      "cell_type": "code",
      "source": [
        "# 4. 기초 통계 요약\n",
        "print(\"\\n[데이터 describe()]\")\n",
        "print(cust_df.describe())"
      ],
      "metadata": {
        "id": "YV3FSIw3Mx51"
      },
      "execution_count": null,
      "outputs": []
    },
    {
      "cell_type": "code",
      "source": [
        "# 5. var3 컬럼의 이상값 확인\n",
        "print(\"\\n[var3 컬럼 값 분포 (상위 10개)]\")\n",
        "print(cust_df['var3'].value_counts()[:10])"
      ],
      "metadata": {
        "id": "SkgJGSjlMx2d"
      },
      "execution_count": null,
      "outputs": []
    },
    {
      "cell_type": "code",
      "source": [
        "# 6. var3 컬럼의 이상값 -999999를 2로 대체\n",
        "cust_df['var3'].replace(-999999, 2, inplace=True)\n",
        "print(\"\\n[var3 이상값 처리 후 분포 (상위 10개)]\")\n",
        "print(cust_df['var3'].value_counts()[:10])"
      ],
      "metadata": {
        "id": "P8EYMwCSMxvn"
      },
      "execution_count": null,
      "outputs": []
    },
    {
      "cell_type": "code",
      "source": [
        "# 6. ID 컬럼 제거\n",
        "cust_df.drop('ID', axis=1, inplace=True)"
      ],
      "metadata": {
        "id": "_PaneMdfMxky"
      },
      "execution_count": null,
      "outputs": []
    },
    {
      "cell_type": "code",
      "source": [
        "# 7. 피처 데이터와 레이블 데이터 분리\n",
        "X_features = cust_df.iloc[:, :-1]  # 마지막 컬럼 제외 (피처)\n",
        "y_labels = cust_df.iloc[:, -1]     # 마지막 컬럼 (TARGET)\n",
        "\n",
        "print(\"\\n[피처 데이터 shape]:\", X_features.shape)"
      ],
      "metadata": {
        "id": "C-UbFSOLNs9W"
      },
      "execution_count": null,
      "outputs": []
    },
    {
      "cell_type": "code",
      "source": [
        "# 8. 학습용 데이터와 테스트용 데이터 분리\n",
        "X_train, X_test, y_train, y_test = train_test_split(X_features, y_labels,\n",
        "                                                    test_size=0.2, random_state=0)\n",
        "\n",
        "print(\"\\n[학습 세트 Shape]:\", X_train.shape, \", 테스트 세트 Shape:\", X_test.shape)"
      ],
      "metadata": {
        "id": "WAcZ8HksNs6C"
      },
      "execution_count": null,
      "outputs": []
    },
    {
      "cell_type": "code",
      "source": [
        "# 9. 레이블 분포 확인 (불균형 여부)\n",
        "print(\"\\n[학습 세트 레이블 분포 비율]\")\n",
        "print(y_train.value_counts() / y_train.count())\n",
        "print(\"\\n[테스트 세트 레이블 분포 비율]\")\n",
        "print(y_test.value_counts() / y_test.count())"
      ],
      "metadata": {
        "id": "wRN2_e5cNs2j"
      },
      "execution_count": null,
      "outputs": []
    },
    {
      "cell_type": "code",
      "source": [
        "from xgboost import XGBClassifier\n",
        "from sklearn.metrics import roc_auc_score\n",
        "from sklearn.model_selection import train_test_split\n",
        "\n",
        "# 1. 학습용 데이터를 다시 학습용 + 검증용으로 분리 (early stopping용)\n",
        "X_tr, X_val, y_tr, y_val = train_test_split(X_train, y_train,\n",
        "                                            test_size=0.3, random_state=0)"
      ],
      "metadata": {
        "id": "L6UyaZH2N-RB"
      },
      "execution_count": null,
      "outputs": []
    },
    {
      "cell_type": "code",
      "source": [
        "# 2. XGBoost 모델 생성\n",
        "xgb_clf = XGBClassifier(n_estimators=500,\n",
        "                        learning_rate=0.05,\n",
        "                        random_state=156)"
      ],
      "metadata": {
        "id": "hi-JvdBaN-OD"
      },
      "execution_count": null,
      "outputs": []
    },
    {
      "cell_type": "code",
      "source": [
        "# 3. 모델 학습 (early stopping 적용)\n",
        "xgb_clf.fit(X_tr, y_tr,\n",
        "            early_stopping_rounds=100,\n",
        "            eval_metric=\"auc\",\n",
        "            eval_set=[(X_tr, y_tr), (X_val, y_val)],\n",
        "            verbose=False)"
      ],
      "metadata": {
        "id": "lxf9h3x4N-Ki"
      },
      "execution_count": null,
      "outputs": []
    },
    {
      "cell_type": "code",
      "source": [
        "# 4. 테스트 세트 예측 및 ROC-AUC 평가\n",
        "y_pred_proba = xgb_clf.predict_proba(X_test)[:, 1]  # 예측 확률값\n",
        "xgb_roc_score = roc_auc_score(y_test, y_pred_proba)\n",
        "\n",
        "print('\\nXGBoost ROC-AUC: {:.4f}'.format(xgb_roc_score))"
      ],
      "metadata": {
        "id": "KclZoe0fN-HD"
      },
      "execution_count": null,
      "outputs": []
    },
    {
      "cell_type": "code",
      "source": [
        "from hyperopt import hp, tpe, Trials, fmin\n",
        "from sklearn.model_selection import KFold\n",
        "from sklearn.metrics import roc_auc_score\n",
        "from xgboost import XGBClassifier\n",
        "\n",
        "# 1. 하이퍼파라미터 탐색 공간 정의\n",
        "xgb_search_space = {\n",
        "    'max_depth': hp.quniform('max_depth', 5, 15, 1),\n",
        "    'min_child_weight': hp.quniform('min_child_weight', 1, 6, 1),\n",
        "    'colsample_bytree': hp.uniform('colsample_bytree', 0.5, 0.95),\n",
        "    'learning_rate': hp.uniform('learning_rate', 0.01, 0.2)\n",
        "}"
      ],
      "metadata": {
        "id": "fVPMl3wZOPTR"
      },
      "execution_count": null,
      "outputs": []
    },
    {
      "cell_type": "code",
      "source": [
        "# 2. 목적 함수 정의 (3-Fold 교차검증)\n",
        "def objective_func(search_space):\n",
        "    xgb_clf = XGBClassifier(\n",
        "        n_estimators=100,\n",
        "        max_depth=int(search_space['max_depth']),\n",
        "        min_child_weight=int(search_space['min_child_weight']),\n",
        "        colsample_bytree=search_space['colsample_bytree'],\n",
        "        learning_rate=search_space['learning_rate'],\n",
        "        random_state=156\n",
        "    )"
      ],
      "metadata": {
        "id": "P9FfrjRBOPQB"
      },
      "execution_count": null,
      "outputs": []
    },
    {
      "cell_type": "code",
      "source": [
        "    # 교차검증\n",
        "    kf = KFold(n_splits=3, shuffle=True, random_state=156)\n",
        "    auc_scores = []\n",
        "\n",
        "    for train_index, val_index in kf.split(X_train):\n",
        "        X_tr, X_val = X_train.iloc[train_index], X_train.iloc[val_index]\n",
        "        y_tr, y_val = y_train.iloc[train_index], y_train.iloc[val_index]\n",
        "\n",
        "        xgb_clf.fit(X_tr, y_tr,\n",
        "                    early_stopping_rounds=30,\n",
        "                    eval_metric=\"auc\",\n",
        "                    eval_set=[(X_tr, y_tr), (X_val, y_val)],\n",
        "                    verbose=False)\n",
        "\n",
        "        preds = xgb_clf.predict_proba(X_val)[:, 1]\n",
        "        auc = roc_auc_score(y_val, preds)\n",
        "        auc_scores.append(auc)\n",
        "\n",
        "    # HyperOpt는 최소화 문제 → - 평균 AUC 반환\n",
        "    return -1 * np.mean(auc_scores)"
      ],
      "metadata": {
        "id": "tlFj4YeyOPMa"
      },
      "execution_count": null,
      "outputs": []
    },
    {
      "cell_type": "code",
      "source": [
        "# 3. Trials 객체 생성 → 수행 결과 저장\n",
        "trials = Trials()\n",
        "\n",
        "# 4. 하이퍼파라미터 최적화 수행\n",
        "best = fmin(fn=objective_func,\n",
        "            space=xgb_search_space,\n",
        "            algo=tpe.suggest,\n",
        "            max_evals=50,\n",
        "            trials=trials,\n",
        "            rstate=np.random.default_rng(156))\n",
        "\n",
        "print('\\nBest Hyperparameters:', best)"
      ],
      "metadata": {
        "id": "o6RaiUWeOohA"
      },
      "execution_count": null,
      "outputs": []
    },
    {
      "cell_type": "code",
      "source": [
        "# 4. 최적 파라미터로 최종 모델 학습 + 테스트 데이터 평가\n",
        "best_xgb = XGBClassifier(\n",
        "    n_estimators=500,\n",
        "    max_depth=int(best['max_depth']),\n",
        "    min_child_weight=int(best['min_child_weight']),\n",
        "    colsample_bytree=best['colsample_bytree'],\n",
        "    learning_rate=best['learning_rate'],\n",
        "    random_state=156\n",
        ")\n",
        "\n",
        "best_xgb.fit(X_train, y_train,\n",
        "             early_stopping_rounds=100,\n",
        "             eval_metric='auc',\n",
        "             eval_set=[(X_train, y_train), (X_test, y_test)],\n",
        "             verbose=False)\n",
        "\n",
        "final_pred_proba = best_xgb.predict_proba(X_test)[:, 1]\n",
        "final_roc_auc = roc_auc_score(y_test, final_pred_proba)\n",
        "\n",
        "print('\\n최종 테스트 ROC-AUC: {:.4f}'.format(final_roc_auc))"
      ],
      "metadata": {
        "id": "JtD4Rjz9Oods"
      },
      "execution_count": null,
      "outputs": []
    },
    {
      "cell_type": "code",
      "source": [
        "# HyperOpt 결과를 그대로 사용하는 대신 일부 값을 round 처리\n",
        "best_xgb = XGBClassifier(\n",
        "    n_estimators=500,\n",
        "    learning_rate=round(best['learning_rate'], 5),\n",
        "    max_depth=int(best['max_depth']),\n",
        "    min_child_weight=int(best['min_child_weight']),\n",
        "    colsample_bytree=round(best['colsample_bytree'], 5),\n",
        "    random_state=156\n",
        ")\n",
        "\n",
        "# 학습 + 평가\n",
        "best_xgb.fit(X_train, y_train,\n",
        "             early_stopping_rounds=100,\n",
        "             eval_metric='auc',\n",
        "             eval_set=[(X_train, y_train), (X_test, y_test)],\n",
        "             verbose=False)\n",
        "\n",
        "final_pred_proba = best_xgb.predict_proba(X_test)[:, 1]\n",
        "final_roc_auc = roc_auc_score(y_test, final_pred_proba)\n",
        "\n",
        "print('\\n최종 HyperOpt 튜닝 후 XGBoost 테스트 ROC-AUC: {:.4f}'.format(final_roc_auc))"
      ],
      "metadata": {
        "id": "aG3YqCqTOoaT"
      },
      "execution_count": null,
      "outputs": []
    },
    {
      "cell_type": "code",
      "source": [
        "from xgboost import plot_importance\n",
        "import matplotlib.pyplot as plt\n",
        "\n",
        "# 그래프 크기 설정 및 중요도 시각화\n",
        "fig, ax = plt.subplots(1, 1, figsize=(10, 8))\n",
        "plot_importance(best_xgb, ax=ax, max_num_features=20, height=0.4)\n",
        "plt.show()"
      ],
      "metadata": {
        "id": "bpkPNwusOoW1"
      },
      "execution_count": null,
      "outputs": []
    },
    {
      "cell_type": "code",
      "source": [
        "from lightgbm import LGBMClassifier\n",
        "from sklearn.metrics import roc_auc_score\n",
        "\n",
        "# LightGBM 모델 생성 (XGBoost와 동일하게 n_estimators=500)\n",
        "lgbm_clf = LGBMClassifier(n_estimators=500)\n",
        "\n",
        "# 검증용 데이터셋\n",
        "eval_set = [(X_tr, y_tr), (X_val, y_val)]\n",
        "\n",
        "# 모델 학습 (early stopping 적용)\n",
        "lgbm_clf.fit(X_tr, y_tr,\n",
        "             early_stopping_rounds=100,\n",
        "             eval_metric='auc',\n",
        "             eval_set=eval_set,\n",
        "             verbose=False)\n",
        "\n",
        "# 테스트 데이터 평가\n",
        "lgbm_pred_proba = lgbm_clf.predict_proba(X_test)[:, 1]\n",
        "lgbm_roc_score = roc_auc_score(y_test, lgbm_pred_proba)\n",
        "\n",
        "print('\\nLightGBM 테스트 ROC-AUC: {:.4f}'.format(lgbm_roc_score))"
      ],
      "metadata": {
        "id": "M4y-_McBPj18"
      },
      "execution_count": null,
      "outputs": []
    },
    {
      "cell_type": "code",
      "source": [
        "from lightgbm import LGBMClassifier\n",
        "from hyperopt import hp, tpe, Trials, fmin\n",
        "from sklearn.model_selection import KFold\n",
        "from sklearn.metrics import roc_auc_score\n",
        "\n",
        "# 1. 탐색 공간 정의\n",
        "lgbm_search_space = {\n",
        "    'num_leaves': hp.quniform('num_leaves', 32, 64, 1),\n",
        "    'max_depth': hp.quniform('max_depth', 100, 160, 1),\n",
        "    'min_child_samples': hp.quniform('min_child_samples', 60, 100, 1),\n",
        "    'subsample': hp.uniform('subsample', 0.7, 1),\n",
        "    'learning_rate': hp.uniform('learning_rate', 0.01, 0.2)\n",
        "}"
      ],
      "metadata": {
        "id": "htBjGb17Pjqp"
      },
      "execution_count": null,
      "outputs": []
    },
    {
      "cell_type": "code",
      "source": [
        "# 2. 목적 함수\n",
        "def objective_func(search_space):\n",
        "    lgbm_clf = LGBMClassifier(\n",
        "        n_estimators=100,\n",
        "        num_leaves=int(search_space['num_leaves']),\n",
        "        max_depth=int(search_space['max_depth']),\n",
        "        min_child_samples=int(search_space['min_child_samples']),\n",
        "        subsample=search_space['subsample'],\n",
        "        learning_rate=search_space['learning_rate']\n",
        "    )\n",
        "\n",
        "    kf = KFold(n_splits=3, shuffle=True, random_state=156)\n",
        "    roc_auc_list = []\n",
        "\n",
        "    for train_index, val_index in kf.split(X_train):\n",
        "        X_tr, X_val = X_train.iloc[train_index], X_train.iloc[val_index]\n",
        "        y_tr, y_val = y_train.iloc[train_index], y_train.iloc[val_index]\n",
        "\n",
        "        lgbm_clf.fit(X_tr, y_tr,\n",
        "                     early_stopping_rounds=30,\n",
        "                     eval_metric='auc',\n",
        "                     eval_set=[(X_tr, y_tr), (X_val, y_val)],\n",
        "                     verbose=False)\n",
        "\n",
        "        pred_proba = lgbm_clf.predict_proba(X_val)[:, 1]\n",
        "        roc_auc = roc_auc_score(y_val, pred_proba)\n",
        "        roc_auc_list.append(roc_auc)\n",
        "\n",
        "    # 평균 ROC-AUC의 음수 반환\n",
        "    return -np.mean(roc_auc_list)\n",
        "\n",
        "# 3. 최적화 수행\n",
        "trials = Trials()\n",
        "best = fmin(fn=objective_func,\n",
        "            space=lgbm_search_space,\n",
        "            algo=tpe.suggest,\n",
        "            max_evals=50,\n",
        "            trials=trials,\n",
        "            rstate=np.random.default_rng(30))\n",
        "\n",
        "print('\\nBest Hyperparameters for LightGBM:', best)"
      ],
      "metadata": {
        "id": "HD4A2nygQHPm"
      },
      "execution_count": null,
      "outputs": []
    },
    {
      "cell_type": "code",
      "source": [
        "# 최적 파라미터를 적용해 LightGBM 최종 모델 생성\n",
        "lgbm_clf = LGBMClassifier(\n",
        "    n_estimators=500,\n",
        "    num_leaves=int(best['num_leaves']),\n",
        "    max_depth=int(best['max_depth']),\n",
        "    min_child_samples=int(best['min_child_samples']),\n",
        "    subsample=round(best['subsample'], 5),\n",
        "    learning_rate=round(best['learning_rate'], 5),\n",
        "    random_state=156\n",
        ")\n",
        "\n",
        "# 학습 (early stopping 적용)\n",
        "lgbm_clf.fit(X_tr, y_tr,\n",
        "             early_stopping_rounds=100,\n",
        "             eval_metric='auc',\n",
        "             eval_set=[(X_tr, y_tr), (X_val, y_val)],\n",
        "             verbose=False)\n",
        "\n",
        "# 테스트 세트 평가\n",
        "lgbm_pred_proba = lgbm_clf.predict_proba(X_test)[:, 1]\n",
        "lgbm_roc_score = roc_auc_score(y_test, lgbm_pred_proba)\n",
        "\n",
        "print('\\n최종 LightGBM 테스트 ROC-AUC: {:.4f}'.format(lgbm_roc_score))"
      ],
      "metadata": {
        "id": "jI4RJdyKQHL7"
      },
      "execution_count": null,
      "outputs": []
    },
    {
      "cell_type": "code",
      "source": [],
      "metadata": {
        "id": "GVanEWTDQHIt"
      },
      "execution_count": null,
      "outputs": []
    },
    {
      "cell_type": "code",
      "source": [],
      "metadata": {
        "id": "KK6ePBkrQHDx"
      },
      "execution_count": null,
      "outputs": []
    },
    {
      "cell_type": "markdown",
      "source": [],
      "metadata": {
        "id": "KH1j7yo3OO3v"
      }
    }
  ]
}